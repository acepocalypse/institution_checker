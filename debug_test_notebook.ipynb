{
          "cells": [
                    {
                              "cell_type": "markdown",
                              "id": "6d77c8b2",
                              "metadata": {},
                              "source": [
                                        "# Institution Checker - Comprehensive Test Harness\n",
                                        "Use this notebook to exercise the search and LLM flows with either live services or deterministic fixtures.\n"
                              ]
                    },
                    {
                              "cell_type": "markdown",
                              "id": "8435e4d3",
                              "metadata": {},
                              "source": [
                                        "## Quick Start\n",
                                        "1. Adjust the configuration cell to switch between live calls and offline fixtures.\n",
                                        "2. Run the environment check to confirm dependencies are available.\n",
                                        "3. Execute the numbered sections in order (search demo -> LLM decision -> batch pipeline -> result inspection).\n",
                                        "4. Run the cleanup cell before restarting to ensure pooled clients close cleanly.\n"
                              ]
                    },
                    {
                              "cell_type": "markdown",
                              "id": "2aa197e9",
                              "metadata": {},
                              "source": [
                                        "## Notebook Modes\n",
                                        "- RUN_NETWORK_TESTS = True: hits Bing and the LLM endpoint with real network requests.\n",
                                        "- RUN_NETWORK_TESTS = False: uses deterministic fixtures that simulate realistic search results and decisions.\n",
                                        "- Offline mode still exercises scoring logic, summarisation, and the async batch pipeline via monkey-patched fixtures.\n"
                              ]
                    },
                    {
                              "cell_type": "code",
                              "execution_count": 1,
                              "id": "72993f8e",
                              "metadata": {},
                              "outputs": [
                                        {
                                                  "name": "stdout",
                                                  "output_type": "stream",
                                                  "text": [
                                                            "Python: 3.12.7\n",
                                                            "Platform: Windows-11-10.0.26100-SP0\n",
                                                            "aiohttp: 3.10.5\n",
                                                            "httpx: 0.28.1\n",
                                                            "pandas: 2.3.1\n"
                                                  ]
                                        }
                              ],
                              "source": [
                                        "import asyncio\n",
                                        "import importlib\n",
                                        "import platform\n",
                                        "import sys\n",
                                        "\n",
                                        "packages = (\"aiohttp\", \"httpx\", \"pandas\")\n",
                                        "\n",
                                        "print(f\"Python: {sys.version.split()[0]}\")\n",
                                        "print(f\"Platform: {platform.platform()}\")\n",
                                        "\n",
                                        "for name in packages:\n",
                                        "    try:\n",
                                        "        module = importlib.import_module(name)\n",
                                        "        version = getattr(module, \"__version__\", \"unknown\")\n",
                                        "        print(f\"{name}: {version}\")\n",
                                        "    except Exception as exc:\n",
                                        "        print(f\"{name}: missing ({exc.__class__.__name__})\")\n"
                              ]
                    },
                    {
                              "cell_type": "code",
                              "execution_count": 2,
                              "id": "d3165eee",
                              "metadata": {},
                              "outputs": [
                                        {
                                                  "name": "stdout",
                                                  "output_type": "stream",
                                                  "text": [
                                                            "Live tests enabled? True\n",
                                                            "Primary name: Robert Duncan\n",
                                                            "Batch names: ['Robert Duncan', 'Jane Smith', 'Ada Lovelace']\n",
                                                            "Max results per search: 8\n"
                                                  ]
                                        }
                              ],
                              "source": [
                                        "# Toggle live calls (Bing + LLM). Leave False to use deterministic fixtures.\n",
                                        "RUN_NETWORK_TESTS = True\n",
                                        "\n",
                                        "# Primary test inputs\n",
                                        "NAME_UNDER_TEST = \"Robert Duncan\"\n",
                                        "BATCH_NAMES = [\"Robert Duncan\", \"Jane Smith\", \"Ada Lovelace\"]\n",
                                        "MAX_RESULTS = 8\n",
                                        "\n",
                                        "print(f\"Live tests enabled? {RUN_NETWORK_TESTS}\")\n",
                                        "print(f\"Primary name: {NAME_UNDER_TEST}\")\n",
                                        "print(f\"Batch names: {BATCH_NAMES}\")\n",
                                        "print(f\"Max results per search: {MAX_RESULTS}\")\n"
                              ]
                    },
                    {
                              "cell_type": "code",
                              "execution_count": 3,
                              "id": "094829f4",
                              "metadata": {},
                              "outputs": [
                                        {
                                                  "name": "stdout",
                                                  "output_type": "stream",
                                                  "text": [
                                                            "Target institution: Purdue University\n"
                                                  ]
                                        }
                              ],
                              "source": [
                                        "from copy import deepcopy\n",
                                        "from pprint import pprint\n",
                                        "from typing import Any, Dict, List\n",
                                        "\n",
                                        "try:\n",
                                        "    import pandas as pd\n",
                                        "except Exception:\n",
                                        "    pd = None\n",
                                        "\n",
                                        "from institution_checker import INSTITUTION\n",
                                        "from search import enhanced_search, close_search_clients, _compute_signals\n",
                                        "from llm_processor import analyze_connection, close_session\n",
                                        "from main import run_pipeline\n",
                                        "\n",
                                        "print(f\"Target institution: {INSTITUTION}\")\n",
                                        "\n",
                                        "_DEFAULT_NEGATIVE_DECISION: Dict[str, str] = {\n",
                                        "    \"connected\": \"N\",\n",
                                        "    \"connection_detail\": \"No supporting evidence in fixture.\",\n",
                                        "    \"current_or_past\": \"N/A\",\n",
                                        "    \"supporting_url\": \"\",\n",
                                        "    \"confidence\": \"medium\",\n",
                                        "    \"temporal_evidence\": \"Fixture fallback: no Purdue-related evidence found.\",\n",
                                        "}\n",
                                        "\n",
                                        "_RAW_FIXTURE_DATA: Dict[str, Dict[str, Any]] = {\n",
                                        "    \"Robert Duncan\": {\n",
                                        "        \"search_entries\": [\n",
                                        "            {\n",
                                        "                \"title\": \"Robert Duncan - Assistant Professor of Computer Science - Purdue University\",\n",
                                        "                \"url\": \"https://www.cs.purdue.edu/people/robert-duncan.html\",\n",
                                        "                \"snippet\": \"Currently serves as an assistant professor of computer science at Purdue University in West Lafayette. Duncan joined Purdue in 2021 and led the 2024 AI faculty cluster hire initiative.\",\n",
                                        "            },\n",
                                        "            {\n",
                                        "                \"title\": \"Purdue AI Institute welcomes Robert Duncan to Engineering Faculty\",\n",
                                        "                \"url\": \"https://www.purdue.edu/ai/news/2024/robert-duncan.html\",\n",
                                        "                \"snippet\": \"In March 2024 Purdue University announced that Robert Duncan joined the College of Engineering as an associate professor focusing on autonomous systems.\",\n",
                                        "            },\n",
                                        "            {\n",
                                        "                \"title\": \"Computer Science Faculty Directory - Purdue University\",\n",
                                        "                \"url\": \"https://www.cs.purdue.edu/people/faculty/duncan.html\",\n",
                                        "                \"snippet\": \"The Purdue Computer Science faculty directory lists Robert Duncan as a current faculty member and research lead for autonomous systems research.\",\n",
                                        "            },\n",
                                        "        ],\n",
                                        "        \"llm_decision\": {\n",
                                        "            \"connected\": \"Y\",\n",
                                        "            \"connection_detail\": \"Assistant professor of computer science at Purdue University since 2021.\",\n",
                                        "            \"current_or_past\": \"current\",\n",
                                        "            \"supporting_url\": \"https://www.cs.purdue.edu/people/robert-duncan.html\",\n",
                                        "            \"confidence\": \"high\",\n",
                                        "            \"temporal_evidence\": \"Currently listed as Purdue faculty; joined in 2021 and highlighted again in 2024 announcements.\",\n",
                                        "        },\n",
                                        "    },\n",
                                        "    \"Jane Smith\": {\n",
                                        "        \"search_entries\": [\n",
                                        "            {\n",
                                        "                \"title\": \"Jane Smith - Director of Alumni Relations, University of Michigan\",\n",
                                        "                \"url\": \"https://alumni.umich.edu/people/jane-smith\",\n",
                                        "                \"snippet\": \"Jane Smith currently serves as director of alumni relations for the University of Michigan alumni association in Ann Arbor.\",\n",
                                        "            },\n",
                                        "            {\n",
                                        "                \"title\": \"Jane Smith joins University of Texas development office\",\n",
                                        "                \"url\": \"https://news.utexas.edu/2023/08/14/jane-smith-joins-development-office/\",\n",
                                        "                \"snippet\": \"The University of Texas announced in 2023 that Jane Smith joined its development office to lead new fundraising initiatives.\",\n",
                                        "            },\n",
                                        "            {\n",
                                        "                \"title\": \"Professional profile for Jane Smith\",\n",
                                        "                \"url\": \"https://www.linkedin.com/in/jane-smith\",\n",
                                        "                \"snippet\": \"Jane Smith is a higher education advancement leader with roles at the University of Michigan and the University of Texas.\",\n",
                                        "            },\n",
                                        "        ],\n",
                                        "        \"llm_decision\": {\n",
                                        "            \"connected\": \"N\",\n",
                                        "            \"connection_detail\": \"Search context only references roles at other universities.\",\n",
                                        "            \"current_or_past\": \"N/A\",\n",
                                        "            \"supporting_url\": \"\",\n",
                                        "            \"confidence\": \"high\",\n",
                                        "            \"temporal_evidence\": \"Evidence shows current roles at Michigan and Texas, none at Purdue University.\",\n",
                                        "        },\n",
                                        "    },\n",
                                        "}\n",
                                        "\n",
                                        "def _build_fixture_results(name: str) -> List[Dict[str, Any]]:\n",
                                        "    entries = _RAW_FIXTURE_DATA.get(name, {}).get(\"search_entries\", [])\n",
                                        "    compiled: List[Dict[str, Any]] = []\n",
                                        "    for entry in entries:\n",
                                        "        signals = _compute_signals(entry[\"title\"], entry[\"snippet\"], entry[\"url\"], INSTITUTION, name)\n",
                                        "        compiled.append({**entry, \"signals\": signals})\n",
                                        "    return compiled\n",
                                        "\n",
                                        "OFFLINE_FIXTURES: Dict[str, Dict[str, Any]] = {}\n",
                                        "for person, payload in _RAW_FIXTURE_DATA.items():\n",
                                        "    OFFLINE_FIXTURES[person] = {\n",
                                        "        \"search_results\": _build_fixture_results(person),\n",
                                        "        \"llm_decision\": {**_DEFAULT_NEGATIVE_DECISION, **payload.get(\"llm_decision\", {})},\n",
                                        "    }\n",
                                        "\n",
                                        "def get_offline_fixture(name: str) -> Dict[str, Any]:\n",
                                        "    base = OFFLINE_FIXTURES.get(name)\n",
                                        "    if base:\n",
                                        "        return base\n",
                                        "    return {\n",
                                        "        \"search_results\": [],\n",
                                        "        \"llm_decision\": deepcopy(_DEFAULT_NEGATIVE_DECISION),\n",
                                        "    }\n",
                                        "\n",
                                        "search_results: List[Dict[str, Any]] = []\n",
                                        "llm_decision: Dict[str, Any] = {}\n"
                              ]
                    },
                    {
                              "cell_type": "code",
                              "execution_count": 4,
                              "id": "87fe4cb4",
                              "metadata": {},
                              "outputs": [],
                              "source": [
                                        "def summarize_search_results(results, limit=5):\n",
                                        "    if not results:\n",
                                        "        print(\"No results returned.\")\n",
                                        "        return\n",
                                        "    highlight_keys = [\n",
                                        "        \"has_person_name\",\n",
                                        "        \"has_institution\",\n",
                                        "        \"has_academic_role\",\n",
                                        "        \"has_current\",\n",
                                        "        \"has_past\",\n",
                                        "        \"has_recent_year\",\n",
                                        "        \"career_transition\",\n",
                                        "    ]\n",
                                        "    for idx, item in enumerate(results[:limit], 1):\n",
                                        "        signals = item.get(\"signals\", {})\n",
                                        "        score = signals.get(\"relevance_score\")\n",
                                        "        flags = [key for key in highlight_keys if signals.get(key)]\n",
                                        "        print(f\"#{idx} {item.get('title', '[no title]')}\")\n",
                                        "        print(f\"    URL: {item.get('url', '')}\")\n",
                                        "        print(f\"    Score: {score} | Flags: {', '.join(flags) or 'none'}\")\n",
                                        "        snippet = item.get(\"snippet\", '').strip()\n",
                                        "        if snippet:\n",
                                        "            print(f\"    Snippet: {snippet}\")\n",
                                        "        print(\"\")\n",
                                        "\n",
                                        "def print_llm_decision(decision):\n",
                                        "    if not decision:\n",
                                        "        print(\"No decision payload received.\")\n",
                                        "        return\n",
                                        "    print(\"LLM Decision\")\n",
                                        "    print(\"------------\")\n",
                                        "    for key in (\"connected\", \"current_or_past\", \"confidence\"):\n",
                                        "        print(f\"{key}: {decision.get(key)}\")\n",
                                        "    print(f\"detail: {decision.get('connection_detail')}\")\n",
                                        "    print(f\"url: {decision.get('supporting_url')}\")\n",
                                        "    print(\"temporal evidence:\")\n",
                                        "    print(decision.get(\"temporal_evidence\", \"\"))\n",
                                        "\n",
                                        "def verify_signal_consistency(name: str, results: List[Dict[str, Any]]) -> bool:\n",
                                        "    mismatches = []\n",
                                        "    for idx, item in enumerate(results, 1):\n",
                                        "        recalculated = _compute_signals(\n",
                                        "            item.get(\"title\", \"\"),\n",
                                        "            item.get(\"snippet\", \"\"),\n",
                                        "            item.get(\"url\", \"\"),\n",
                                        "            INSTITUTION,\n",
                                        "            name,\n",
                                        "        )\n",
                                        "        expected = item.get(\"signals\", {})\n",
                                        "        if recalculated != expected:\n",
                                        "            mismatches.append((idx, expected, recalculated))\n",
                                        "    if mismatches:\n",
                                        "        print(\"Signal mismatch detected; recalculated values differ.\")\n",
                                        "        for idx, expected, recalculated in mismatches:\n",
                                        "            print(f\"  Result #{idx}: expected {expected} vs recalculated {recalculated}\")\n",
                                        "        return False\n",
                                        "    print(f\"Signals verified for {len(results)} result(s).\")\n",
                                        "    return True\n",
                                        "\n",
                                        "def show_results_table(results: List[Dict[str, Any]]):\n",
                                        "    if not results:\n",
                                        "        return\n",
                                        "    if pd is not None:\n",
                                        "        rows = []\n",
                                        "        for item in results:\n",
                                        "            signals = item.get(\"signals\", {})\n",
                                        "            rows.append(\n",
                                        "                {\n",
                                        "                    \"title\": item.get(\"title\", \"\"),\n",
                                        "                    \"score\": signals.get(\"relevance_score\"),\n",
                                        "                    \"has_current\": signals.get(\"has_current\"),\n",
                                        "                    \"has_past\": signals.get(\"has_past\"),\n",
                                        "                    \"has_institution\": signals.get(\"has_institution\"),\n",
                                        "                    \"domain\": signals.get(\"domain\"),\n",
                                        "                }\n",
                                        "            )\n",
                                        "        display(pd.DataFrame(rows).sort_values(by=\"score\", ascending=False))\n",
                                        "    else:\n",
                                        "        pprint(results)\n"
                              ]
                    },
                    {
                              "cell_type": "markdown",
                              "id": "2d3f6d87",
                              "metadata": {},
                              "source": [
                                        "## 1. Enhanced Search Demo\n",
                                        "Fetches results either live or from the offline fixtures to exercise scoring and summarisation.\n"
                              ]
                    },
                    {
                              "cell_type": "code",
                              "execution_count": 5,
                              "id": "5b13cc97",
                              "metadata": {},
                              "outputs": [
                                        {
                                                  "name": "stdout",
                                                  "output_type": "stream",
                                                  "text": [
                                                            "Retrieved 8 result(s) via live Bing search.\n",
                                                            "#1 Reducing the Digital Divide for Families: State and …\n",
                                                            "    URL: https://www.bing.com/ck/a?p=87b8684d9bce9fab3680f73635517829bd3efac6e1570ca690ad4f7f6253514fJmltdHM9MTc1ODg0NDgwMA&ptn=3&ver=2&hsh=4&fclid=1fab75c6-5ead-607b-06ea-63b55fd36135&u=a1aHR0cHM6Ly93d3cubmNmci5vcmcvcG9saWN5L3Jlc2VhcmNoLWFuZC1wb2xpY3ktYnJpZWZzL3JlZHVjaW5nLWRpZ2l0YWwtZGl2aWRlLWZhbWlsaWVzLXN0YXRlLWxvY2FsLXBvbGljeS1vcHBvcnR1bml0aWVz&ntb=1\n",
                                                            "    Score: 16 | Flags: has_person_name, has_institution, has_academic_role, has_recent_year\n",
                                                            "    Snippet: Jul 8, 2024 · Robert Duncan, Ph.D., is an Assistant Professor in the Department of Human Development and Family Science at Purdue University. He also serves as …\n",
                                                            "\n",
                                                            "#2 Robert J Duncan - boiler.courses\n",
                                                            "    URL: https://www.bing.com/ck/a?p=509dd701be5ec05afaf61475e10b977ea40be30e9d8acc3cf7ad0fc411d24154JmltdHM9MTc1ODg0NDgwMA&ptn=3&ver=2&hsh=4&fclid=386d9e33-b563-6de9-150b-8840b41d6c69&u=a1aHR0cHM6Ly9ib2lsZXIuY291cnNlcy9wcm9mLzgxNQ&ntb=1\n",
                                                            "    Score: 16 | Flags: has_person_name, has_institution, has_academic_role, has_recent_year\n",
                                                            "    Snippet: Instructor in the Human Development And Family Science department at Purdue who teaches HDFS 590 (Spring 2024), HDFS 617 (Spring 2024), PUBH 546 (Fall 2023), HDFS 625 (Fall 2023), …\n",
                                                            "\n",
                                                            "#3 Robert J Duncan - boiler.courses\n",
                                                            "    URL: https://www.bing.com/ck/a?p=18d416c9c14165d2b20d3b2bc1d5e5be19ea067a4f004de6485439c6d885ca65JmltdHM9MTc1ODg0NDgwMA&ptn=3&ver=2&hsh=4&fclid=1fab75c6-5ead-607b-06ea-63b55fd36135&u=a1aHR0cHM6Ly9ib2lsZXIuY291cnNlcy9wcm9mLzgxNQ&ntb=1\n",
                                                            "    Score: 16 | Flags: has_person_name, has_institution, has_academic_role, has_recent_year\n",
                                                            "    Snippet: Instructor in the Human Development And Family Science department at Purdue who teaches HDFS 590 (Spring 2024), HDFS 617 (Spring 2024), PUBH 546 (Fall 2023), HDFS 625 (Fall …\n",
                                                            "\n",
                                                            "#4 Robert Duncan - Assistant Professor at Purdue University | ZoomInfo\n",
                                                            "    URL: https://www.bing.com/ck/a?p=03f4b4cc908f04ced75a597e21195889deb4e4d1ef2733137de3b89e090b515eJmltdHM9MTc1ODg0NDgwMA&ptn=3&ver=2&hsh=4&fclid=386d9e33-b563-6de9-150b-8840b41d6c69&u=a1aHR0cHM6Ly93d3cuem9vbWluZm8uY29tL3AvUm9iZXJ0LUR1bmNhbi8yNDcxOTM5MDQy&ntb=1\n",
                                                            "    Score: 14 | Flags: has_person_name, has_institution, has_academic_role, has_past\n",
                                                            "    Snippet: Robert Duncan is an Assistant Professor at Purdue University based in West Lafayette, Indiana. Previously, Robert was a Postdoctoral Fellow at Uni versity of California, Irvine and also held …\n",
                                                            "\n",
                                                            "#5 Robert J Duncan | Faculty | PU | 2019 | OpenPayrolls\n",
                                                            "    URL: https://www.bing.com/ck/a?p=4d1db5bb4837a928cfd4140090d457e5c83487a12778670efb89537f5520d069JmltdHM9MTc1ODg0NDgwMA&ptn=3&ver=2&hsh=4&fclid=1fab75c6-5ead-607b-06ea-63b55fd36135&u=a1aHR0cHM6Ly9vcGVucGF5cm9sbHMuY29tL3JvYmVydC1qLWR1bmNhbi04OTg1MzcwMA&ntb=1\n",
                                                            "    Score: 14 | Flags: has_person_name, has_institution, has_academic_role\n",
                                                            "    Snippet: Robert J Duncan worked as a Faculty for Purdue University (PU) and in 2019 had a reported pay of $111,680.11 according to public records. This is 49.4 percent higher than the average pay …\n",
                                                            "\n",
                                                            "Signal mismatch detected; recalculated values differ.\n",
                                                            "  Result #1: expected {'has_person_name': True, 'has_institution': True, 'has_academic_role': True, 'career_transition': False, 'has_current': False, 'has_past': False, 'has_recent_year': True, 'has_timeline': True, 'domain': 'www.bing.com', 'relevance_score': 16, 'strategy': 'transition', 'strategy_boost': 4, 'queries': ['\"Robert Duncan\" \"Purdue University\" (\"assistant professor\" OR \"associate professor\" OR \"faculty\" OR \"alumni\" OR \"student\" OR \"graduate\")', '\"Robert Duncan\" \"Purdue University\" (\"currently\" OR \"now\" OR \"serving as\" OR \"presently\" OR \"active\")', '\"Robert Duncan\" \"Purdue University\" (\"joined\" OR \"appointed\" OR \"moved to\" OR \"left\" OR \"hired\" OR \"transition\" OR \"departed\")'], 'strategies': ['current_status', 'institution_history', 'transition'], 'strategy_hits': 3} vs recalculated {'has_person_name': True, 'has_institution': True, 'has_academic_role': True, 'career_transition': False, 'has_current': False, 'has_past': False, 'has_recent_year': True, 'has_timeline': True, 'domain': 'www.bing.com', 'relevance_score': 16}\n",
                                                            "  Result #2: expected {'has_person_name': True, 'has_institution': True, 'has_academic_role': True, 'career_transition': False, 'has_current': False, 'has_past': False, 'has_recent_year': True, 'has_timeline': True, 'domain': 'www.bing.com', 'relevance_score': 16, 'strategy': 'unquoted_institution', 'strategy_boost': 4, 'queries': ['\"Robert Duncan\" Purdue University'], 'strategies': ['unquoted_institution'], 'strategy_hits': 1} vs recalculated {'has_person_name': True, 'has_institution': True, 'has_academic_role': True, 'career_transition': False, 'has_current': False, 'has_past': False, 'has_recent_year': True, 'has_timeline': True, 'domain': 'www.bing.com', 'relevance_score': 16}\n",
                                                            "  Result #3: expected {'has_person_name': True, 'has_institution': True, 'has_academic_role': True, 'career_transition': False, 'has_current': False, 'has_past': False, 'has_recent_year': True, 'has_timeline': True, 'domain': 'www.bing.com', 'relevance_score': 16, 'strategy': 'core_profile', 'strategy_boost': 5, 'queries': ['\"Robert Duncan\" \"Purdue University\"'], 'strategies': ['core_profile'], 'strategy_hits': 1} vs recalculated {'has_person_name': True, 'has_institution': True, 'has_academic_role': True, 'career_transition': False, 'has_current': False, 'has_past': False, 'has_recent_year': True, 'has_timeline': True, 'domain': 'www.bing.com', 'relevance_score': 16}\n",
                                                            "  Result #4: expected {'has_person_name': True, 'has_institution': True, 'has_academic_role': True, 'career_transition': False, 'has_current': False, 'has_past': True, 'has_recent_year': False, 'has_timeline': False, 'domain': 'www.bing.com', 'relevance_score': 14, 'strategy': 'unquoted_institution', 'strategy_boost': 4, 'queries': ['\"Robert Duncan\" Purdue University'], 'strategies': ['unquoted_institution'], 'strategy_hits': 1} vs recalculated {'has_person_name': True, 'has_institution': True, 'has_academic_role': True, 'career_transition': False, 'has_current': False, 'has_past': True, 'has_recent_year': False, 'has_timeline': False, 'domain': 'www.bing.com', 'relevance_score': 14}\n",
                                                            "  Result #5: expected {'has_person_name': True, 'has_institution': True, 'has_academic_role': True, 'career_transition': False, 'has_current': False, 'has_past': False, 'has_recent_year': False, 'has_timeline': True, 'domain': 'www.bing.com', 'relevance_score': 14, 'strategy': 'core_profile', 'strategy_boost': 5, 'queries': ['\"Robert Duncan\" \"Purdue University\"'], 'strategies': ['core_profile'], 'strategy_hits': 1} vs recalculated {'has_person_name': True, 'has_institution': True, 'has_academic_role': True, 'career_transition': False, 'has_current': False, 'has_past': False, 'has_recent_year': False, 'has_timeline': True, 'domain': 'www.bing.com', 'relevance_score': 14}\n",
                                                            "  Result #6: expected {'has_person_name': True, 'has_institution': True, 'has_academic_role': True, 'career_transition': False, 'has_current': False, 'has_past': False, 'has_recent_year': False, 'has_timeline': True, 'domain': 'www.bing.com', 'relevance_score': 14, 'strategy': 'core_profile', 'strategy_boost': 5, 'queries': ['\"Robert Duncan\" \"Purdue University\"'], 'strategies': ['core_profile'], 'strategy_hits': 1} vs recalculated {'has_person_name': True, 'has_institution': True, 'has_academic_role': True, 'career_transition': False, 'has_current': False, 'has_past': False, 'has_recent_year': False, 'has_timeline': True, 'domain': 'www.bing.com', 'relevance_score': 14}\n",
                                                            "  Result #7: expected {'has_person_name': True, 'has_institution': True, 'has_academic_role': True, 'career_transition': False, 'has_current': False, 'has_past': False, 'has_recent_year': False, 'has_timeline': True, 'domain': 'www.bing.com', 'relevance_score': 14, 'strategy': 'unquoted_institution', 'strategy_boost': 4, 'queries': ['\"Robert Duncan\" Purdue University'], 'strategies': ['unquoted_institution'], 'strategy_hits': 1} vs recalculated {'has_person_name': True, 'has_institution': True, 'has_academic_role': True, 'career_transition': False, 'has_current': False, 'has_past': False, 'has_recent_year': False, 'has_timeline': True, 'domain': 'www.bing.com', 'relevance_score': 14}\n",
                                                            "  Result #8: expected {'has_person_name': True, 'has_institution': True, 'has_academic_role': True, 'career_transition': False, 'has_current': False, 'has_past': False, 'has_recent_year': False, 'has_timeline': False, 'domain': 'www.bing.com', 'relevance_score': 13, 'strategy': 'transition', 'strategy_boost': 3, 'queries': ['\"Robert Duncan\" \"Purdue University\" (\"assistant professor\" OR \"associate professor\" OR \"faculty\" OR \"alumni\" OR \"student\" OR \"graduate\")', '\"Robert Duncan\" \"Purdue University\" (\"joined\" OR \"appointed\" OR \"moved to\" OR \"left\" OR \"hired\" OR \"transition\" OR \"departed\")'], 'strategies': ['institution_history', 'transition'], 'strategy_hits': 2} vs recalculated {'has_person_name': True, 'has_institution': True, 'has_academic_role': True, 'career_transition': False, 'has_current': False, 'has_past': False, 'has_recent_year': False, 'has_timeline': False, 'domain': 'www.bing.com', 'relevance_score': 13}\n"
                                                  ]
                                        },
                                        {
                                                  "data": {
                                                            "application/vnd.microsoft.datawrangler.viewer.v0+json": {
                                                                      "columns": [
                                                                                {
                                                                                          "name": "index",
                                                                                          "rawType": "int64",
                                                                                          "type": "integer"
                                                                                },
                                                                                {
                                                                                          "name": "title",
                                                                                          "rawType": "object",
                                                                                          "type": "string"
                                                                                },
                                                                                {
                                                                                          "name": "score",
                                                                                          "rawType": "int64",
                                                                                          "type": "integer"
                                                                                },
                                                                                {
                                                                                          "name": "has_current",
                                                                                          "rawType": "bool",
                                                                                          "type": "boolean"
                                                                                },
                                                                                {
                                                                                          "name": "has_past",
                                                                                          "rawType": "bool",
                                                                                          "type": "boolean"
                                                                                },
                                                                                {
                                                                                          "name": "has_institution",
                                                                                          "rawType": "bool",
                                                                                          "type": "boolean"
                                                                                },
                                                                                {
                                                                                          "name": "domain",
                                                                                          "rawType": "object",
                                                                                          "type": "string"
                                                                                }
                                                                      ],
                                                                      "ref": "2bef280a-d665-4183-9576-cc6c7d1d1509",
                                                                      "rows": [
                                                                                [
                                                                                          "0",
                                                                                          "Reducing the Digital Divide for Families: State and …",
                                                                                          "16",
                                                                                          "False",
                                                                                          "False",
                                                                                          "True",
                                                                                          "www.bing.com"
                                                                                ],
                                                                                [
                                                                                          "1",
                                                                                          "Robert J Duncan - boiler.courses",
                                                                                          "16",
                                                                                          "False",
                                                                                          "False",
                                                                                          "True",
                                                                                          "www.bing.com"
                                                                                ],
                                                                                [
                                                                                          "2",
                                                                                          "Robert J Duncan - boiler.courses",
                                                                                          "16",
                                                                                          "False",
                                                                                          "False",
                                                                                          "True",
                                                                                          "www.bing.com"
                                                                                ],
                                                                                [
                                                                                          "3",
                                                                                          "Robert Duncan - Assistant Professor at Purdue University | ZoomInfo",
                                                                                          "14",
                                                                                          "False",
                                                                                          "True",
                                                                                          "True",
                                                                                          "www.bing.com"
                                                                                ],
                                                                                [
                                                                                          "4",
                                                                                          "Robert J Duncan | Faculty | PU | 2019 | OpenPayrolls",
                                                                                          "14",
                                                                                          "False",
                                                                                          "False",
                                                                                          "True",
                                                                                          "www.bing.com"
                                                                                ],
                                                                                [
                                                                                          "5",
                                                                                          "Robert J Duncan | Faculty | PU | OpenPayrolls",
                                                                                          "14",
                                                                                          "False",
                                                                                          "False",
                                                                                          "True",
                                                                                          "www.bing.com"
                                                                                ],
                                                                                [
                                                                                          "6",
                                                                                          "Robert J Duncan | Faculty | PU | OpenPayrolls",
                                                                                          "14",
                                                                                          "False",
                                                                                          "False",
                                                                                          "True",
                                                                                          "www.bing.com"
                                                                                ],
                                                                                [
                                                                                          "7",
                                                                                          "SEL I E C SEL Interventions in Early Childhood - ed",
                                                                                          "13",
                                                                                          "False",
                                                                                          "False",
                                                                                          "True",
                                                                                          "www.bing.com"
                                                                                ]
                                                                      ],
                                                                      "shape": {
                                                                                "columns": 6,
                                                                                "rows": 8
                                                                      }
                                                            },
                                                            "text/html": [
                                                                      "<div>\n",
                                                                      "<style scoped>\n",
                                                                      "    .dataframe tbody tr th:only-of-type {\n",
                                                                      "        vertical-align: middle;\n",
                                                                      "    }\n",
                                                                      "\n",
                                                                      "    .dataframe tbody tr th {\n",
                                                                      "        vertical-align: top;\n",
                                                                      "    }\n",
                                                                      "\n",
                                                                      "    .dataframe thead th {\n",
                                                                      "        text-align: right;\n",
                                                                      "    }\n",
                                                                      "</style>\n",
                                                                      "<table border=\"1\" class=\"dataframe\">\n",
                                                                      "  <thead>\n",
                                                                      "    <tr style=\"text-align: right;\">\n",
                                                                      "      <th></th>\n",
                                                                      "      <th>title</th>\n",
                                                                      "      <th>score</th>\n",
                                                                      "      <th>has_current</th>\n",
                                                                      "      <th>has_past</th>\n",
                                                                      "      <th>has_institution</th>\n",
                                                                      "      <th>domain</th>\n",
                                                                      "    </tr>\n",
                                                                      "  </thead>\n",
                                                                      "  <tbody>\n",
                                                                      "    <tr>\n",
                                                                      "      <th>0</th>\n",
                                                                      "      <td>Reducing the Digital Divide for Families: Stat...</td>\n",
                                                                      "      <td>16</td>\n",
                                                                      "      <td>False</td>\n",
                                                                      "      <td>False</td>\n",
                                                                      "      <td>True</td>\n",
                                                                      "      <td>www.bing.com</td>\n",
                                                                      "    </tr>\n",
                                                                      "    <tr>\n",
                                                                      "      <th>1</th>\n",
                                                                      "      <td>Robert J Duncan - boiler.courses</td>\n",
                                                                      "      <td>16</td>\n",
                                                                      "      <td>False</td>\n",
                                                                      "      <td>False</td>\n",
                                                                      "      <td>True</td>\n",
                                                                      "      <td>www.bing.com</td>\n",
                                                                      "    </tr>\n",
                                                                      "    <tr>\n",
                                                                      "      <th>2</th>\n",
                                                                      "      <td>Robert J Duncan - boiler.courses</td>\n",
                                                                      "      <td>16</td>\n",
                                                                      "      <td>False</td>\n",
                                                                      "      <td>False</td>\n",
                                                                      "      <td>True</td>\n",
                                                                      "      <td>www.bing.com</td>\n",
                                                                      "    </tr>\n",
                                                                      "    <tr>\n",
                                                                      "      <th>3</th>\n",
                                                                      "      <td>Robert Duncan - Assistant Professor at Purdue ...</td>\n",
                                                                      "      <td>14</td>\n",
                                                                      "      <td>False</td>\n",
                                                                      "      <td>True</td>\n",
                                                                      "      <td>True</td>\n",
                                                                      "      <td>www.bing.com</td>\n",
                                                                      "    </tr>\n",
                                                                      "    <tr>\n",
                                                                      "      <th>4</th>\n",
                                                                      "      <td>Robert J Duncan | Faculty | PU | 2019 | OpenPa...</td>\n",
                                                                      "      <td>14</td>\n",
                                                                      "      <td>False</td>\n",
                                                                      "      <td>False</td>\n",
                                                                      "      <td>True</td>\n",
                                                                      "      <td>www.bing.com</td>\n",
                                                                      "    </tr>\n",
                                                                      "    <tr>\n",
                                                                      "      <th>5</th>\n",
                                                                      "      <td>Robert J Duncan | Faculty | PU | OpenPayrolls</td>\n",
                                                                      "      <td>14</td>\n",
                                                                      "      <td>False</td>\n",
                                                                      "      <td>False</td>\n",
                                                                      "      <td>True</td>\n",
                                                                      "      <td>www.bing.com</td>\n",
                                                                      "    </tr>\n",
                                                                      "    <tr>\n",
                                                                      "      <th>6</th>\n",
                                                                      "      <td>Robert J Duncan | Faculty | PU | OpenPayrolls</td>\n",
                                                                      "      <td>14</td>\n",
                                                                      "      <td>False</td>\n",
                                                                      "      <td>False</td>\n",
                                                                      "      <td>True</td>\n",
                                                                      "      <td>www.bing.com</td>\n",
                                                                      "    </tr>\n",
                                                                      "    <tr>\n",
                                                                      "      <th>7</th>\n",
                                                                      "      <td>SEL I E C SEL Interventions in Early Childhood...</td>\n",
                                                                      "      <td>13</td>\n",
                                                                      "      <td>False</td>\n",
                                                                      "      <td>False</td>\n",
                                                                      "      <td>True</td>\n",
                                                                      "      <td>www.bing.com</td>\n",
                                                                      "    </tr>\n",
                                                                      "  </tbody>\n",
                                                                      "</table>\n",
                                                                      "</div>"
                                                            ],
                                                            "text/plain": [
                                                                      "                                               title  score  has_current  \\\n",
                                                                      "0  Reducing the Digital Divide for Families: Stat...     16        False   \n",
                                                                      "1                   Robert J Duncan - boiler.courses     16        False   \n",
                                                                      "2                   Robert J Duncan - boiler.courses     16        False   \n",
                                                                      "3  Robert Duncan - Assistant Professor at Purdue ...     14        False   \n",
                                                                      "4  Robert J Duncan | Faculty | PU | 2019 | OpenPa...     14        False   \n",
                                                                      "5      Robert J Duncan | Faculty | PU | OpenPayrolls     14        False   \n",
                                                                      "6      Robert J Duncan | Faculty | PU | OpenPayrolls     14        False   \n",
                                                                      "7  SEL I E C SEL Interventions in Early Childhood...     13        False   \n",
                                                                      "\n",
                                                                      "   has_past  has_institution        domain  \n",
                                                                      "0     False             True  www.bing.com  \n",
                                                                      "1     False             True  www.bing.com  \n",
                                                                      "2     False             True  www.bing.com  \n",
                                                                      "3      True             True  www.bing.com  \n",
                                                                      "4     False             True  www.bing.com  \n",
                                                                      "5     False             True  www.bing.com  \n",
                                                                      "6     False             True  www.bing.com  \n",
                                                                      "7     False             True  www.bing.com  "
                                                            ]
                                                  },
                                                  "metadata": {},
                                                  "output_type": "display_data"
                                        }
                              ],
                              "source": [
                                        "if RUN_NETWORK_TESTS:\n",
                                        "    search_results = await enhanced_search(\n",
                                        "        NAME_UNDER_TEST,\n",
                                        "        INSTITUTION,\n",
                                        "        num_results=MAX_RESULTS,\n",
                                        "        debug=False,\n",
                                        "    )\n",
                                        "    origin = \"live Bing search\"\n",
                                        "else:\n",
                                        "    fixture_payload = get_offline_fixture(NAME_UNDER_TEST)\n",
                                        "    search_results = fixture_payload[\"search_results\"][:MAX_RESULTS]\n",
                                        "    origin = \"offline fixture\"\n",
                                        "    print(f\"Using offline fixture for {NAME_UNDER_TEST} with {len(search_results)} result(s).\")\n",
                                        "\n",
                                        "if search_results:\n",
                                        "    print(f\"Retrieved {len(search_results)} result(s) via {origin}.\")\n",
                                        "else:\n",
                                        "    print(f\"No results returned from {origin}.\")\n",
                                        "\n",
                                        "summarize_search_results(search_results, limit=min(MAX_RESULTS, 5))\n",
                                        "if search_results:\n",
                                        "    verify_signal_consistency(NAME_UNDER_TEST, search_results)\n",
                                        "    show_results_table(search_results)\n"
                              ]
                    },
                    {
                              "cell_type": "markdown",
                              "id": "71220dea",
                              "metadata": {},
                              "source": [
                                        "## 2. LLM Connection Decision\n",
                                        "Analyzes the search results to determine whether the person is connected to the institution.\n"
                              ]
                    },
                    {
                              "cell_type": "code",
                              "execution_count": 6,
                              "id": "bd094e4f",
                              "metadata": {},
                              "outputs": [
                                        {
                                                  "name": "stdout",
                                                  "output_type": "stream",
                                                  "text": [
                                                            "[DEBUG] Prompt length: 5599 characters\n",
                                                            "[DEBUG] Attempt 1 status: 200\n",
                                                            "[DEBUG] Model content preview: ```json {   \"connected\": \"Y\",   \"connection_detail\": \"Robert Duncan is an Assistant Professor at Purdue University in the Department of Human Development and Family Science.\",   \"current_or_past\": \"cu...\n",
                                                            "Decision source: live LLM call\n",
                                                            "LLM Decision\n",
                                                            "------------\n",
                                                            "connected: Y\n",
                                                            "current_or_past: current\n",
                                                            "confidence: high\n",
                                                            "detail: Robert Duncan is an Assistant Professor at Purdue University in the Department of Human Development and Family Science.\n",
                                                            "url: https://www.bing.com/ck/a?p=87b8684d9bce9fab3680f73635517829bd3efac6e1570ca690ad4f7f6253514fJmltdHM9MTc1ODg0NDgwMA&ptn=3&ver=2&hsh=4&fclid=1fab75c6-5ead-607b-06ea-63b55fd36135&u=a1aHR0cHM6Ly93d3cub...\n",
                                                            "temporal evidence:\n",
                                                            "The snippet from July 8, 2024, indicates that Robert Duncan is currently an Assistant Professor at Purdue University.\n"
                                                  ]
                                        }
                              ],
                              "source": [
                                        "if RUN_NETWORK_TESTS:\n",
                                        "    if not search_results:\n",
                                        "        search_results = await enhanced_search(\n",
                                        "            NAME_UNDER_TEST,\n",
                                        "            INSTITUTION,\n",
                                        "            num_results=MAX_RESULTS,\n",
                                        "            debug=False,\n",
                                        "        )\n",
                                        "    llm_decision = await analyze_connection(\n",
                                        "        NAME_UNDER_TEST,\n",
                                        "        INSTITUTION,\n",
                                        "        search_results,\n",
                                        "        debug=True,\n",
                                        "    )\n",
                                        "    origin = \"live LLM call\"\n",
                                        "else:\n",
                                        "    fixture_payload = get_offline_fixture(NAME_UNDER_TEST)\n",
                                        "    llm_decision = fixture_payload[\"llm_decision\"]\n",
                                        "    origin = \"offline fixture\"\n",
                                        "    print(f\"Using offline fixture decision for {NAME_UNDER_TEST}.\")\n",
                                        "\n",
                                        "print(f\"Decision source: {origin}\")\n",
                                        "print_llm_decision(llm_decision)\n"
                              ]
                    },
                    {
                              "cell_type": "markdown",
                              "id": "6574a086",
                              "metadata": {},
                              "source": [
                                        "## 3. Batch Pipeline\n",
                                        "Exercises the async CLI pipeline with either live services or offline fixtures patched into place.\n"
                              ]
                    },
                    {
                              "cell_type": "code",
                              "execution_count": 7,
                              "id": "55d257da",
                              "metadata": {},
                              "outputs": [
                                        {
                                                  "name": "stdout",
                                                  "output_type": "stream",
                                                  "text": [
                                                            "[INFO] Processing 3 name(s) in 2 batch(es) using enhanced search\n",
                                                            "\n",
                                                            "[INFO] Batch 1/2: 2 name(s)\n",
                                                            "[OK] Robert Duncan: connected (past, high) - Robert Duncan has been an Assistant Professor at Purdue University in the Department of Human Development and Family Science.\n",
                                                            "[OK] Jane Smith: connected (past, high) - Jane Smith has a genuine employment connection with Purdue University as a Senior Records Auditor, and she is also listed as an alumnus.\n",
                                                            "[INFO] Batch 1 completed in 44.2s\n",
                                                            "\n",
                                                            "[INFO] Batch 2/2: 1 name(s)\n",
                                                            "[--] Ada Lovelace: no confirmed connection to Purdue University\n",
                                                            "[INFO] Batch 2 completed in 37.9s\n",
                                                            "\n",
                                                            "[INFO] Finished processing in 82.1s (27.4s per name)\n",
                                                            "Processed 3 record(s).\n"
                                                  ]
                                        },
                                        {
                                                  "data": {
                                                            "application/vnd.microsoft.datawrangler.viewer.v0+json": {
                                                                      "columns": [
                                                                                {
                                                                                          "name": "index",
                                                                                          "rawType": "int64",
                                                                                          "type": "integer"
                                                                                },
                                                                                {
                                                                                          "name": "name",
                                                                                          "rawType": "object",
                                                                                          "type": "string"
                                                                                },
                                                                                {
                                                                                          "name": "institution",
                                                                                          "rawType": "object",
                                                                                          "type": "string"
                                                                                },
                                                                                {
                                                                                          "name": "connected",
                                                                                          "rawType": "object",
                                                                                          "type": "string"
                                                                                },
                                                                                {
                                                                                          "name": "connection_detail",
                                                                                          "rawType": "object",
                                                                                          "type": "string"
                                                                                },
                                                                                {
                                                                                          "name": "current_or_past",
                                                                                          "rawType": "object",
                                                                                          "type": "string"
                                                                                },
                                                                                {
                                                                                          "name": "supporting_url",
                                                                                          "rawType": "object",
                                                                                          "type": "string"
                                                                                },
                                                                                {
                                                                                          "name": "confidence",
                                                                                          "rawType": "object",
                                                                                          "type": "string"
                                                                                },
                                                                                {
                                                                                          "name": "temporal_evidence",
                                                                                          "rawType": "object",
                                                                                          "type": "string"
                                                                                }
                                                                      ],
                                                                      "ref": "ccbb5ae4-ef21-4c93-8afc-72b3161cd64f",
                                                                      "rows": [
                                                                                [
                                                                                          "0",
                                                                                          "Robert Duncan",
                                                                                          "Purdue University",
                                                                                          "Y",
                                                                                          "Robert Duncan has been an Assistant Professor at Purdue University in the Department of Human Development and Family Science.",
                                                                                          "past",
                                                                                          "https://www.bing.com/ck/a?p=87b8684d9bce9fab3680f73635517829bd3efac6e1570ca690ad4f7f6253514fJmltdHM9MTc1ODg0NDgwMA&ptn=3&ver=2&hsh=4&fclid=1fab75c6-5ead-607b-06ea-63b55fd36135&u=a1aHR0cHM6Ly93d3cub...",
                                                                                          "high",
                                                                                          "Multiple sources confirm his role as Assistant Professor at Purdue University up to and including 2024, with no current employment mentioned."
                                                                                ],
                                                                                [
                                                                                          "1",
                                                                                          "Jane Smith",
                                                                                          "Purdue University",
                                                                                          "Y",
                                                                                          "Jane Smith has a genuine employment connection with Purdue University as a Senior Records Auditor, and she is also listed as an alumnus.",
                                                                                          "past",
                                                                                          "https://www.bing.com/ck/a?p=b3e2e1c14d58850779abad439fa5baf8f907caae7632ebf3863b120087403a62JmltdHM9MTc1ODg0NDgwMA&ptn=3&ver=2&hsh=4&fclid=1fab75c6-5ead-607b-06ea-63b55fd36135&u=a1aHR0cHM6Ly93d3cua...",
                                                                                          "high",
                                                                                          "The search finding indicates Jane Smith was a Senior Records Auditor at Purdue University Global, confirming past employment. Additionally, multiple LinkedIn profiles list her as an alumnus."
                                                                                ],
                                                                                [
                                                                                          "2",
                                                                                          "Ada Lovelace",
                                                                                          "Purdue University",
                                                                                          "N",
                                                                                          "Ada Lovelace is recognized as the first computer programmer and has been honored by Purdue University through naming a student supercomputing team after her. However, there is no evidence of an actual employment or alumni connection.",
                                                                                          "N/A",
                                                                                          "",
                                                                                          "high",
                                                                                          "All search findings indicate Ada Lovace's historical significance and the honor by Purdue University but do not provide any direct link to her having been employed, studied, or otherwise formally connected with the institution."
                                                                                ]
                                                                      ],
                                                                      "shape": {
                                                                                "columns": 8,
                                                                                "rows": 3
                                                                      }
                                                            },
                                                            "text/html": [
                                                                      "<div>\n",
                                                                      "<style scoped>\n",
                                                                      "    .dataframe tbody tr th:only-of-type {\n",
                                                                      "        vertical-align: middle;\n",
                                                                      "    }\n",
                                                                      "\n",
                                                                      "    .dataframe tbody tr th {\n",
                                                                      "        vertical-align: top;\n",
                                                                      "    }\n",
                                                                      "\n",
                                                                      "    .dataframe thead th {\n",
                                                                      "        text-align: right;\n",
                                                                      "    }\n",
                                                                      "</style>\n",
                                                                      "<table border=\"1\" class=\"dataframe\">\n",
                                                                      "  <thead>\n",
                                                                      "    <tr style=\"text-align: right;\">\n",
                                                                      "      <th></th>\n",
                                                                      "      <th>name</th>\n",
                                                                      "      <th>institution</th>\n",
                                                                      "      <th>connected</th>\n",
                                                                      "      <th>connection_detail</th>\n",
                                                                      "      <th>current_or_past</th>\n",
                                                                      "      <th>supporting_url</th>\n",
                                                                      "      <th>confidence</th>\n",
                                                                      "      <th>temporal_evidence</th>\n",
                                                                      "    </tr>\n",
                                                                      "  </thead>\n",
                                                                      "  <tbody>\n",
                                                                      "    <tr>\n",
                                                                      "      <th>0</th>\n",
                                                                      "      <td>Robert Duncan</td>\n",
                                                                      "      <td>Purdue University</td>\n",
                                                                      "      <td>Y</td>\n",
                                                                      "      <td>Robert Duncan has been an Assistant Professor ...</td>\n",
                                                                      "      <td>past</td>\n",
                                                                      "      <td>https://www.bing.com/ck/a?p=87b8684d9bce9fab36...</td>\n",
                                                                      "      <td>high</td>\n",
                                                                      "      <td>Multiple sources confirm his role as Assistant...</td>\n",
                                                                      "    </tr>\n",
                                                                      "    <tr>\n",
                                                                      "      <th>1</th>\n",
                                                                      "      <td>Jane Smith</td>\n",
                                                                      "      <td>Purdue University</td>\n",
                                                                      "      <td>Y</td>\n",
                                                                      "      <td>Jane Smith has a genuine employment connection...</td>\n",
                                                                      "      <td>past</td>\n",
                                                                      "      <td>https://www.bing.com/ck/a?p=b3e2e1c14d58850779...</td>\n",
                                                                      "      <td>high</td>\n",
                                                                      "      <td>The search finding indicates Jane Smith was a ...</td>\n",
                                                                      "    </tr>\n",
                                                                      "    <tr>\n",
                                                                      "      <th>2</th>\n",
                                                                      "      <td>Ada Lovelace</td>\n",
                                                                      "      <td>Purdue University</td>\n",
                                                                      "      <td>N</td>\n",
                                                                      "      <td>Ada Lovelace is recognized as the first comput...</td>\n",
                                                                      "      <td>N/A</td>\n",
                                                                      "      <td></td>\n",
                                                                      "      <td>high</td>\n",
                                                                      "      <td>All search findings indicate Ada Lovace's hist...</td>\n",
                                                                      "    </tr>\n",
                                                                      "  </tbody>\n",
                                                                      "</table>\n",
                                                                      "</div>"
                                                            ],
                                                            "text/plain": [
                                                                      "            name        institution connected  \\\n",
                                                                      "0  Robert Duncan  Purdue University         Y   \n",
                                                                      "1     Jane Smith  Purdue University         Y   \n",
                                                                      "2   Ada Lovelace  Purdue University         N   \n",
                                                                      "\n",
                                                                      "                                   connection_detail current_or_past  \\\n",
                                                                      "0  Robert Duncan has been an Assistant Professor ...            past   \n",
                                                                      "1  Jane Smith has a genuine employment connection...            past   \n",
                                                                      "2  Ada Lovelace is recognized as the first comput...             N/A   \n",
                                                                      "\n",
                                                                      "                                      supporting_url confidence  \\\n",
                                                                      "0  https://www.bing.com/ck/a?p=87b8684d9bce9fab36...       high   \n",
                                                                      "1  https://www.bing.com/ck/a?p=b3e2e1c14d58850779...       high   \n",
                                                                      "2                                                          high   \n",
                                                                      "\n",
                                                                      "                                   temporal_evidence  \n",
                                                                      "0  Multiple sources confirm his role as Assistant...  \n",
                                                                      "1  The search finding indicates Jane Smith was a ...  \n",
                                                                      "2  All search findings indicate Ada Lovace's hist...  "
                                                            ]
                                                  },
                                                  "metadata": {},
                                                  "output_type": "display_data"
                                        }
                              ],
                              "source": [
                                        "batch_output = []\n",
                                        "\n",
                                        "if RUN_NETWORK_TESTS:\n",
                                        "    batch_output = await run_pipeline(\n",
                                        "        BATCH_NAMES,\n",
                                        "        batch_size=2,\n",
                                        "        use_enhanced_search=True,\n",
                                        "        debug=False,\n",
                                        "    )\n",
                                        "else:\n",
                                        "    from unittest.mock import patch\n",
                                        "\n",
                                        "    async def offline_enhanced(name: str, institution: str, num_results: int = MAX_RESULTS, debug: bool = False):\n",
                                        "        payload = get_offline_fixture(name)\n",
                                        "        results = payload[\"search_results\"]\n",
                                        "        if num_results:\n",
                                        "            return results[:num_results]\n",
                                        "        return results\n",
                                        "\n",
                                        "    async def offline_llm(name: str, institution: str, results, debug: bool = False, max_retries: int = 2):\n",
                                        "        payload = get_offline_fixture(name)\n",
                                        "        return payload[\"llm_decision\"]\n",
                                        "\n",
                                        "    def _noop_writer(*args, **kwargs):\n",
                                        "        print(\"[offline] Skipping write to disk.\")\n",
                                        "\n",
                                        "    async def _run_offline_pipeline():\n",
                                        "        with patch(\"main.enhanced_search\", new=offline_enhanced), \\\n",
                                        "             patch(\"main.analyze_connection\", new=offline_llm), \\\n",
                                        "             patch(\"main.write_partial_results\", new=_noop_writer), \\\n",
                                        "             patch(\"main.save_final_results\", new=_noop_writer):\n",
                                        "            return await run_pipeline(\n",
                                        "                BATCH_NAMES,\n",
                                        "                batch_size=2,\n",
                                        "                use_enhanced_search=True,\n",
                                        "                debug=False,\n",
                                        "            )\n",
                                        "\n",
                                        "    batch_output = await _run_offline_pipeline()\n",
                                        "\n",
                                        "if batch_output:\n",
                                        "    print(f\"Processed {len(batch_output)} record(s).\")\n",
                                        "    if pd is not None:\n",
                                        "        display(pd.DataFrame(batch_output))\n",
                                        "    else:\n",
                                        "        pprint(batch_output)\n",
                                        "else:\n",
                                        "    print(\"No batch output produced.\")\n"
                              ]
                    },
                    {
                              "cell_type": "markdown",
                              "id": "f06b792a",
                              "metadata": {},
                              "source": [
                                        "## 4. Inspect Stored Results (Optional)\n",
                                        "Check the current contents of data/results_partial.csv if it exists.\n"
                              ]
                    },
                    {
                              "cell_type": "code",
                              "execution_count": 8,
                              "id": "bd3c4241",
                              "metadata": {},
                              "outputs": [
                                        {
                                                  "name": "stdout",
                                                  "output_type": "stream",
                                                  "text": [
                                                            "Found partial results at data\\results_partial.csv\n"
                                                  ]
                                        },
                                        {
                                                  "data": {
                                                            "application/vnd.microsoft.datawrangler.viewer.v0+json": {
                                                                      "columns": [
                                                                                {
                                                                                          "name": "index",
                                                                                          "rawType": "int64",
                                                                                          "type": "integer"
                                                                                },
                                                                                {
                                                                                          "name": "name",
                                                                                          "rawType": "object",
                                                                                          "type": "string"
                                                                                },
                                                                                {
                                                                                          "name": "institution",
                                                                                          "rawType": "object",
                                                                                          "type": "string"
                                                                                },
                                                                                {
                                                                                          "name": "connected",
                                                                                          "rawType": "object",
                                                                                          "type": "string"
                                                                                },
                                                                                {
                                                                                          "name": "connection_detail",
                                                                                          "rawType": "object",
                                                                                          "type": "string"
                                                                                },
                                                                                {
                                                                                          "name": "current_or_past",
                                                                                          "rawType": "object",
                                                                                          "type": "unknown"
                                                                                },
                                                                                {
                                                                                          "name": "supporting_url",
                                                                                          "rawType": "object",
                                                                                          "type": "unknown"
                                                                                },
                                                                                {
                                                                                          "name": "confidence",
                                                                                          "rawType": "object",
                                                                                          "type": "string"
                                                                                },
                                                                                {
                                                                                          "name": "temporal_evidence",
                                                                                          "rawType": "object",
                                                                                          "type": "string"
                                                                                }
                                                                      ],
                                                                      "ref": "c83a0de6-2f6d-4bb8-a72b-bafb5880ad52",
                                                                      "rows": [
                                                                                [
                                                                                          "0",
                                                                                          "Robert Duncan",
                                                                                          "Purdue University",
                                                                                          "Y",
                                                                                          "Robert Duncan has been an Assistant Professor at Purdue University in the Department of Human Development and Family Science.",
                                                                                          "past",
                                                                                          "https://www.bing.com/ck/a?p=87b8684d9bce9fab3680f73635517829bd3efac6e1570ca690ad4f7f6253514fJmltdHM9MTc1ODg0NDgwMA&ptn=3&ver=2&hsh=4&fclid=1fab75c6-5ead-607b-06ea-63b55fd36135&u=a1aHR0cHM6Ly93d3cub...",
                                                                                          "high",
                                                                                          "Multiple sources confirm his role as Assistant Professor at Purdue University up to and including 2024, with no current employment mentioned."
                                                                                ],
                                                                                [
                                                                                          "1",
                                                                                          "Jane Smith",
                                                                                          "Purdue University",
                                                                                          "Y",
                                                                                          "Jane Smith has a genuine employment connection with Purdue University as a Senior Records Auditor, and she is also listed as an alumnus.",
                                                                                          "past",
                                                                                          "https://www.bing.com/ck/a?p=b3e2e1c14d58850779abad439fa5baf8f907caae7632ebf3863b120087403a62JmltdHM9MTc1ODg0NDgwMA&ptn=3&ver=2&hsh=4&fclid=1fab75c6-5ead-607b-06ea-63b55fd36135&u=a1aHR0cHM6Ly93d3cua...",
                                                                                          "high",
                                                                                          "The search finding indicates Jane Smith was a Senior Records Auditor at Purdue University Global, confirming past employment. Additionally, multiple LinkedIn profiles list her as an alumnus."
                                                                                ],
                                                                                [
                                                                                          "2",
                                                                                          "Ada Lovelace",
                                                                                          "Purdue University",
                                                                                          "N",
                                                                                          "Ada Lovelace is recognized as the first computer programmer and has been honored by Purdue University through naming a student supercomputing team after her. However, there is no evidence of an actual employment or alumni connection.",
                                                                                          null,
                                                                                          null,
                                                                                          "high",
                                                                                          "All search findings indicate Ada Lovace's historical significance and the honor by Purdue University but do not provide any direct link to her having been employed, studied, or otherwise formally connected with the institution."
                                                                                ]
                                                                      ],
                                                                      "shape": {
                                                                                "columns": 8,
                                                                                "rows": 3
                                                                      }
                                                            },
                                                            "text/html": [
                                                                      "<div>\n",
                                                                      "<style scoped>\n",
                                                                      "    .dataframe tbody tr th:only-of-type {\n",
                                                                      "        vertical-align: middle;\n",
                                                                      "    }\n",
                                                                      "\n",
                                                                      "    .dataframe tbody tr th {\n",
                                                                      "        vertical-align: top;\n",
                                                                      "    }\n",
                                                                      "\n",
                                                                      "    .dataframe thead th {\n",
                                                                      "        text-align: right;\n",
                                                                      "    }\n",
                                                                      "</style>\n",
                                                                      "<table border=\"1\" class=\"dataframe\">\n",
                                                                      "  <thead>\n",
                                                                      "    <tr style=\"text-align: right;\">\n",
                                                                      "      <th></th>\n",
                                                                      "      <th>name</th>\n",
                                                                      "      <th>institution</th>\n",
                                                                      "      <th>connected</th>\n",
                                                                      "      <th>connection_detail</th>\n",
                                                                      "      <th>current_or_past</th>\n",
                                                                      "      <th>supporting_url</th>\n",
                                                                      "      <th>confidence</th>\n",
                                                                      "      <th>temporal_evidence</th>\n",
                                                                      "    </tr>\n",
                                                                      "  </thead>\n",
                                                                      "  <tbody>\n",
                                                                      "    <tr>\n",
                                                                      "      <th>0</th>\n",
                                                                      "      <td>Robert Duncan</td>\n",
                                                                      "      <td>Purdue University</td>\n",
                                                                      "      <td>Y</td>\n",
                                                                      "      <td>Robert Duncan has been an Assistant Professor ...</td>\n",
                                                                      "      <td>past</td>\n",
                                                                      "      <td>https://www.bing.com/ck/a?p=87b8684d9bce9fab36...</td>\n",
                                                                      "      <td>high</td>\n",
                                                                      "      <td>Multiple sources confirm his role as Assistant...</td>\n",
                                                                      "    </tr>\n",
                                                                      "    <tr>\n",
                                                                      "      <th>1</th>\n",
                                                                      "      <td>Jane Smith</td>\n",
                                                                      "      <td>Purdue University</td>\n",
                                                                      "      <td>Y</td>\n",
                                                                      "      <td>Jane Smith has a genuine employment connection...</td>\n",
                                                                      "      <td>past</td>\n",
                                                                      "      <td>https://www.bing.com/ck/a?p=b3e2e1c14d58850779...</td>\n",
                                                                      "      <td>high</td>\n",
                                                                      "      <td>The search finding indicates Jane Smith was a ...</td>\n",
                                                                      "    </tr>\n",
                                                                      "    <tr>\n",
                                                                      "      <th>2</th>\n",
                                                                      "      <td>Ada Lovelace</td>\n",
                                                                      "      <td>Purdue University</td>\n",
                                                                      "      <td>N</td>\n",
                                                                      "      <td>Ada Lovelace is recognized as the first comput...</td>\n",
                                                                      "      <td>NaN</td>\n",
                                                                      "      <td>NaN</td>\n",
                                                                      "      <td>high</td>\n",
                                                                      "      <td>All search findings indicate Ada Lovace's hist...</td>\n",
                                                                      "    </tr>\n",
                                                                      "  </tbody>\n",
                                                                      "</table>\n",
                                                                      "</div>"
                                                            ],
                                                            "text/plain": [
                                                                      "            name        institution connected  \\\n",
                                                                      "0  Robert Duncan  Purdue University         Y   \n",
                                                                      "1     Jane Smith  Purdue University         Y   \n",
                                                                      "2   Ada Lovelace  Purdue University         N   \n",
                                                                      "\n",
                                                                      "                                   connection_detail current_or_past  \\\n",
                                                                      "0  Robert Duncan has been an Assistant Professor ...            past   \n",
                                                                      "1  Jane Smith has a genuine employment connection...            past   \n",
                                                                      "2  Ada Lovelace is recognized as the first comput...             NaN   \n",
                                                                      "\n",
                                                                      "                                      supporting_url confidence  \\\n",
                                                                      "0  https://www.bing.com/ck/a?p=87b8684d9bce9fab36...       high   \n",
                                                                      "1  https://www.bing.com/ck/a?p=b3e2e1c14d58850779...       high   \n",
                                                                      "2                                                NaN       high   \n",
                                                                      "\n",
                                                                      "                                   temporal_evidence  \n",
                                                                      "0  Multiple sources confirm his role as Assistant...  \n",
                                                                      "1  The search finding indicates Jane Smith was a ...  \n",
                                                                      "2  All search findings indicate Ada Lovace's hist...  "
                                                            ]
                                                  },
                                                  "metadata": {},
                                                  "output_type": "display_data"
                                        }
                              ],
                              "source": [
                                        "from pathlib import Path\n",
                                        "\n",
                                        "partial_path = Path(\"data/results_partial.csv\")\n",
                                        "if partial_path.exists():\n",
                                        "    print(f\"Found partial results at {partial_path}\")\n",
                                        "    if pd is not None:\n",
                                        "        display(pd.read_csv(partial_path))\n",
                                        "    else:\n",
                                        "        print(partial_path.read_text())\n",
                                        "else:\n",
                                        "    print(\"No partial results file present.\")\n"
                              ]
                    },
                    {
                              "cell_type": "markdown",
                              "id": "518a0d33",
                              "metadata": {},
                              "source": [
                                        "## 5. Cleanup\n",
                                        "Close shared clients so reruns start fresh.\n"
                              ]
                    },
                    {
                              "cell_type": "code",
                              "execution_count": 9,
                              "id": "394b80f2",
                              "metadata": {},
                              "outputs": [
                                        {
                                                  "name": "stdout",
                                                  "output_type": "stream",
                                                  "text": [
                                                            "Cleanup complete.\n"
                                                  ]
                                        }
                              ],
                              "source": [
                                        "await close_search_clients()\n",
                                        "await close_session()\n",
                                        "print(\"Cleanup complete.\")\n"
                              ]
                    }
          ],
          "metadata": {
                    "kernelspec": {
                              "display_name": "base",
                              "language": "python",
                              "name": "python3"
                    },
                    "language_info": {
                              "codemirror_mode": {
                                        "name": "ipython",
                                        "version": 3
                              },
                              "file_extension": ".py",
                              "mimetype": "text/x-python",
                              "name": "python",
                              "nbconvert_exporter": "python",
                              "pygments_lexer": "ipython3",
                              "version": "3.12.7"
                    }
          },
          "nbformat": 4,
          "nbformat_minor": 5
}
